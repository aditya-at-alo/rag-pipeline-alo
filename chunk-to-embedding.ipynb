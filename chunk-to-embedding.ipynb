{
 "cells": [
  {
   "cell_type": "code",
   "execution_count": 1,
   "id": "f2fc58e2",
   "metadata": {},
   "outputs": [],
   "source": [
    "from sentence_transformers import SentenceTransformer\n",
    "from sentence_transformers.util import cos_sim\n",
    "import numpy as np\n",
    "import faiss\n",
    "from pathlib import Path\n",
    "import os\n",
    "import re\n",
    "import pickle\n",
    "from tqdm import tqdm"
   ]
  },
  {
   "cell_type": "code",
   "execution_count": 2,
   "id": "b8f627de",
   "metadata": {},
   "outputs": [],
   "source": [
    "markdown_path = Path(\"./postgre_chunks/accumulate.md\")\n",
    "markdown_text = markdown_path.read_text(encoding=\"utf-8\")\n"
   ]
  },
  {
   "cell_type": "code",
   "execution_count": 3,
   "id": "76b41df8",
   "metadata": {},
   "outputs": [
    {
     "data": {
      "application/vnd.jupyter.widget-view+json": {
       "model_id": "d8169ca594ad47d7a8339c271f94c678",
       "version_major": 2,
       "version_minor": 0
      },
      "text/plain": [
       "modules.json:   0%|          | 0.00/229 [00:00<?, ?B/s]"
      ]
     },
     "metadata": {},
     "output_type": "display_data"
    },
    {
     "name": "stderr",
     "output_type": "stream",
     "text": [
      "C:\\Users\\adika\\AppData\\Roaming\\Python\\Python312\\site-packages\\huggingface_hub\\file_download.py:139: UserWarning: `huggingface_hub` cache-system uses symlinks by default to efficiently store duplicated files but your machine does not support them in C:\\Users\\adika\\.cache\\huggingface\\hub\\models--jinaai--jina-embeddings-v2-small-en. Caching files will still work but in a degraded version that might require more space on your disk. This warning can be disabled by setting the `HF_HUB_DISABLE_SYMLINKS_WARNING` environment variable. For more details, see https://huggingface.co/docs/huggingface_hub/how-to-cache#limitations.\n",
      "To support symlinks on Windows, you either need to activate Developer Mode or to run Python as an administrator. In order to activate developer mode, see this article: https://docs.microsoft.com/en-us/windows/apps/get-started/enable-your-device-for-development\n",
      "  warnings.warn(message)\n"
     ]
    },
    {
     "data": {
      "application/vnd.jupyter.widget-view+json": {
       "model_id": "fd023419b6784a52a337e21dacd4273e",
       "version_major": 2,
       "version_minor": 0
      },
      "text/plain": [
       "config_sentence_transformers.json:   0%|          | 0.00/117 [00:00<?, ?B/s]"
      ]
     },
     "metadata": {},
     "output_type": "display_data"
    },
    {
     "data": {
      "application/vnd.jupyter.widget-view+json": {
       "model_id": "36063f8bd98d45d8b89af32fdef49260",
       "version_major": 2,
       "version_minor": 0
      },
      "text/plain": [
       "README.md:   0%|          | 0.00/70.6k [00:00<?, ?B/s]"
      ]
     },
     "metadata": {},
     "output_type": "display_data"
    },
    {
     "data": {
      "application/vnd.jupyter.widget-view+json": {
       "model_id": "24c7c10ea9e54159ae023604aca25deb",
       "version_major": 2,
       "version_minor": 0
      },
      "text/plain": [
       "sentence_bert_config.json:   0%|          | 0.00/99.0 [00:00<?, ?B/s]"
      ]
     },
     "metadata": {},
     "output_type": "display_data"
    },
    {
     "data": {
      "application/vnd.jupyter.widget-view+json": {
       "model_id": "4acfeda149014e92a0e38af9e4ce43b8",
       "version_major": 2,
       "version_minor": 0
      },
      "text/plain": [
       "config.json:   0%|          | 0.00/1.18k [00:00<?, ?B/s]"
      ]
     },
     "metadata": {},
     "output_type": "display_data"
    },
    {
     "data": {
      "application/vnd.jupyter.widget-view+json": {
       "model_id": "191a8d7a7d974a69a07c67219fe4d8b5",
       "version_major": 2,
       "version_minor": 0
      },
      "text/plain": [
       "configuration_bert.py:   0%|          | 0.00/8.24k [00:00<?, ?B/s]"
      ]
     },
     "metadata": {},
     "output_type": "display_data"
    },
    {
     "name": "stderr",
     "output_type": "stream",
     "text": [
      "C:\\Users\\adika\\AppData\\Roaming\\Python\\Python312\\site-packages\\huggingface_hub\\file_download.py:139: UserWarning: `huggingface_hub` cache-system uses symlinks by default to efficiently store duplicated files but your machine does not support them in C:\\Users\\adika\\.cache\\huggingface\\hub\\models--jinaai--jina-bert-implementation. Caching files will still work but in a degraded version that might require more space on your disk. This warning can be disabled by setting the `HF_HUB_DISABLE_SYMLINKS_WARNING` environment variable. For more details, see https://huggingface.co/docs/huggingface_hub/how-to-cache#limitations.\n",
      "To support symlinks on Windows, you either need to activate Developer Mode or to run Python as an administrator. In order to activate developer mode, see this article: https://docs.microsoft.com/en-us/windows/apps/get-started/enable-your-device-for-development\n",
      "  warnings.warn(message)\n",
      "A new version of the following files was downloaded from https://huggingface.co/jinaai/jina-bert-implementation:\n",
      "- configuration_bert.py\n",
      ". Make sure to double-check they do not contain any added malicious code. To avoid downloading new versions of the code file, you can pin a revision.\n"
     ]
    },
    {
     "data": {
      "application/vnd.jupyter.widget-view+json": {
       "model_id": "034e645b7e2e45aca4d3f7fdaf70a605",
       "version_major": 2,
       "version_minor": 0
      },
      "text/plain": [
       "modeling_bert.py:   0%|          | 0.00/97.7k [00:00<?, ?B/s]"
      ]
     },
     "metadata": {},
     "output_type": "display_data"
    },
    {
     "name": "stderr",
     "output_type": "stream",
     "text": [
      "A new version of the following files was downloaded from https://huggingface.co/jinaai/jina-bert-implementation:\n",
      "- modeling_bert.py\n",
      ". Make sure to double-check they do not contain any added malicious code. To avoid downloading new versions of the code file, you can pin a revision.\n"
     ]
    },
    {
     "data": {
      "application/vnd.jupyter.widget-view+json": {
       "model_id": "470458e5bef6460cba012c9cf822743e",
       "version_major": 2,
       "version_minor": 0
      },
      "text/plain": [
       "model.safetensors:   0%|          | 0.00/65.4M [00:00<?, ?B/s]"
      ]
     },
     "metadata": {},
     "output_type": "display_data"
    },
    {
     "data": {
      "application/vnd.jupyter.widget-view+json": {
       "model_id": "d5f24a1476834a69aa05e4d1ea09ddde",
       "version_major": 2,
       "version_minor": 0
      },
      "text/plain": [
       "tokenizer_config.json:   0%|          | 0.00/373 [00:00<?, ?B/s]"
      ]
     },
     "metadata": {},
     "output_type": "display_data"
    },
    {
     "data": {
      "application/vnd.jupyter.widget-view+json": {
       "model_id": "cf3abdfef0904d09929c5a71d55a5042",
       "version_major": 2,
       "version_minor": 0
      },
      "text/plain": [
       "vocab.txt:   0%|          | 0.00/232k [00:00<?, ?B/s]"
      ]
     },
     "metadata": {},
     "output_type": "display_data"
    },
    {
     "data": {
      "application/vnd.jupyter.widget-view+json": {
       "model_id": "8a341a6bb1724053aca520c9e25a8fbe",
       "version_major": 2,
       "version_minor": 0
      },
      "text/plain": [
       "tokenizer.json:   0%|          | 0.00/712k [00:00<?, ?B/s]"
      ]
     },
     "metadata": {},
     "output_type": "display_data"
    },
    {
     "data": {
      "application/vnd.jupyter.widget-view+json": {
       "model_id": "ea9f04aef2f34249bfc24e815d5a09bd",
       "version_major": 2,
       "version_minor": 0
      },
      "text/plain": [
       "special_tokens_map.json:   0%|          | 0.00/125 [00:00<?, ?B/s]"
      ]
     },
     "metadata": {},
     "output_type": "display_data"
    },
    {
     "data": {
      "application/vnd.jupyter.widget-view+json": {
       "model_id": "37d36c9f50b84846a656d22c3d353d00",
       "version_major": 2,
       "version_minor": 0
      },
      "text/plain": [
       "config.json:   0%|          | 0.00/190 [00:00<?, ?B/s]"
      ]
     },
     "metadata": {},
     "output_type": "display_data"
    }
   ],
   "source": [
    "model = SentenceTransformer(\n",
    "    \"jinaai/jina-embeddings-v2-small-en\",\n",
    "    trust_remote_code=True\n",
    ")\n",
    "\n",
    "doc_embeddings = model.encode(markdown_text, normalize_embeddings=True)"
   ]
  },
  {
   "cell_type": "code",
   "execution_count": 4,
   "id": "3862c22b",
   "metadata": {},
   "outputs": [
    {
     "data": {
      "text/plain": [
       "array([-3.93222310e-02, -6.93455786e-02,  5.24517987e-03,  6.72828034e-02,\n",
       "       -3.10698040e-02,  5.02861803e-03,  2.64600459e-02,  6.33088797e-02,\n",
       "       -1.60452891e-02, -7.57627364e-04,  3.93325351e-02, -2.56419145e-02,\n",
       "       -1.02493865e-02, -8.09574276e-02,  5.36529906e-02, -5.79424351e-02,\n",
       "        5.35768047e-02, -7.13758394e-02, -5.50481193e-02, -5.89387231e-02,\n",
       "       -5.03211021e-02, -3.31346169e-02,  5.08580804e-02, -9.79123358e-03,\n",
       "        7.36794621e-02, -3.65940332e-02, -4.22500558e-02,  4.82253768e-02,\n",
       "        2.00222265e-02,  5.69430254e-02, -1.29322410e-01,  2.66738124e-02,\n",
       "       -1.18071325e-02,  3.34186368e-02, -5.42167164e-02,  3.75753804e-03,\n",
       "        2.35779919e-02,  4.65796590e-02, -4.21759263e-02, -8.36880952e-02,\n",
       "       -4.89322990e-02,  2.53802221e-02,  6.59107566e-02,  1.54676745e-02,\n",
       "       -5.81718311e-02,  3.65538374e-02, -7.91455507e-02,  1.07679911e-01,\n",
       "        2.29995344e-02, -3.49104498e-03, -1.09366402e-01,  2.99628396e-02,\n",
       "       -8.32658261e-02,  3.54575589e-02, -3.46506312e-02,  3.41829881e-02,\n",
       "       -1.48367127e-02,  4.58177254e-02, -2.74988990e-02,  2.33671498e-02,\n",
       "        3.75114102e-03, -1.52432807e-02, -3.50182839e-02,  4.04179133e-02,\n",
       "       -1.48334773e-03, -3.60771529e-02, -1.61181018e-02, -4.98423614e-02,\n",
       "       -5.25410734e-02,  1.05271870e-02, -6.57294765e-02,  1.66112240e-02,\n",
       "        8.43427107e-02, -7.93434680e-02, -4.24574735e-03,  2.24583689e-03,\n",
       "       -7.13191088e-03,  8.18997175e-02,  1.16780670e-02, -4.64597344e-02,\n",
       "       -7.22228885e-02,  2.40318272e-02, -5.65955006e-02,  7.14495480e-02,\n",
       "       -2.78688725e-02, -3.39002870e-02, -2.69782334e-03,  1.34322466e-02,\n",
       "        5.64415269e-02, -1.88183766e-02,  8.63174442e-03,  8.32122862e-02,\n",
       "       -5.94727974e-03, -5.93346097e-02,  1.56312138e-02, -5.22783659e-02,\n",
       "        2.33322009e-02,  3.28545980e-02, -3.86466868e-02,  2.20072642e-02,\n",
       "        5.29733226e-02,  8.36275741e-02,  7.31938407e-02, -3.96770425e-02,\n",
       "       -7.79820383e-02,  7.01806769e-02, -6.93255365e-02, -1.36230979e-02,\n",
       "       -8.58303010e-02, -7.73689151e-02, -2.07268121e-03, -6.30728453e-02,\n",
       "       -1.28716100e-02, -1.31065529e-02, -4.51524295e-02,  4.07058932e-02,\n",
       "        2.73171104e-02, -1.03864856e-01, -1.54132871e-02, -4.26561832e-02,\n",
       "        4.84963413e-03, -3.37694399e-02, -4.46702150e-04,  8.98436457e-02,\n",
       "        1.51120909e-02,  6.31984994e-02, -9.98171605e-03,  5.75251458e-03,\n",
       "       -7.90370479e-02, -9.11453972e-04, -7.48249376e-03,  2.58426163e-02,\n",
       "        3.57387216e-05,  5.53246997e-02,  8.07930157e-02,  7.70195806e-03,\n",
       "        2.91271675e-02, -1.07004419e-02, -5.12828194e-02,  9.43262801e-02,\n",
       "       -3.70092914e-02, -3.59641053e-02,  1.07272603e-02, -1.72200464e-02,\n",
       "       -1.18425465e-03, -4.35587019e-02,  4.24733460e-02, -1.59816872e-02,\n",
       "       -4.87607382e-02,  6.11295504e-03, -6.52015442e-03,  2.84095127e-02,\n",
       "       -7.63215274e-02, -2.14306219e-03, -2.08084527e-02,  1.07058799e-02,\n",
       "       -3.18543501e-02,  6.44290596e-02,  3.99431698e-02, -4.99199629e-02,\n",
       "       -3.92999761e-02,  4.90629561e-02, -1.11518493e-02, -4.03885962e-03,\n",
       "       -1.09630050e-02,  1.56525150e-02,  2.94285733e-02,  1.02856614e-01,\n",
       "       -3.30086723e-02, -4.68946807e-02,  6.25601858e-02,  5.31928577e-02,\n",
       "       -6.17421679e-02, -2.59042401e-02, -4.60305437e-02, -3.43815261e-03,\n",
       "       -1.73641667e-02,  2.76100375e-02,  6.55317819e-03, -6.80169463e-02,\n",
       "       -3.66507634e-03, -1.84344091e-02, -3.94348428e-02,  2.64304318e-02,\n",
       "        2.98500527e-02,  5.46974177e-03,  6.84486628e-02,  2.54593398e-02,\n",
       "        2.28820778e-02, -3.05367652e-02, -3.99047099e-02,  4.65381285e-03,\n",
       "       -2.15230975e-02,  5.92188328e-04, -4.93121073e-02,  1.43098291e-02,\n",
       "       -2.89916974e-02,  1.28566235e-01, -3.66087109e-02,  4.54878248e-02,\n",
       "       -1.63595676e-02,  4.75669131e-02, -5.76600879e-02,  5.02766818e-02,\n",
       "       -4.74413559e-02,  1.09296791e-01, -6.07575141e-02,  4.62458795e-03,\n",
       "       -7.47941881e-02,  1.67365484e-02, -1.41635453e-02,  5.96366823e-02,\n",
       "        7.05097318e-02, -1.76752005e-02, -4.01966870e-02, -6.37675915e-03,\n",
       "       -3.87794189e-02, -6.47938028e-02,  4.25673164e-02, -3.41452397e-02,\n",
       "       -2.25887429e-02,  2.34722402e-02, -3.68401669e-02,  3.77357453e-02,\n",
       "       -2.16828976e-02, -1.62759945e-02,  1.88520961e-02, -3.71376867e-03,\n",
       "       -3.12355831e-02, -2.49903500e-02,  1.03131749e-01, -2.68766657e-02,\n",
       "       -5.76649942e-02,  2.02171244e-02,  3.39584388e-02,  3.59851196e-02,\n",
       "       -5.00780791e-02, -2.03299746e-02, -5.55771701e-02, -2.27920935e-02,\n",
       "       -3.68542271e-03,  2.12432574e-02,  7.07303584e-02,  8.82974081e-03,\n",
       "       -1.63625237e-02,  3.93753722e-02,  2.13354602e-02, -3.71416546e-02,\n",
       "       -8.78593978e-03,  5.45599535e-02, -2.43942682e-02, -4.41307053e-02,\n",
       "       -4.29160856e-02, -1.23823881e-01, -1.41518218e-02,  1.58068556e-02,\n",
       "       -2.40082014e-03,  9.95978862e-02, -7.58274496e-02, -2.08564643e-02,\n",
       "        4.55520935e-02,  8.64660740e-02, -1.18747884e-02,  6.62364438e-02,\n",
       "        3.45164444e-03, -6.76220283e-03, -5.89320660e-02, -4.88495873e-03,\n",
       "        5.59064373e-02,  2.60878000e-02,  3.03323381e-02,  8.13825205e-02,\n",
       "        3.90554219e-02, -7.32589792e-03, -5.54009229e-02,  3.17143425e-02,\n",
       "        6.31431416e-02,  4.29884940e-02,  1.71588454e-02, -3.00044101e-02,\n",
       "       -5.49442433e-02, -1.78840738e-02, -2.61202902e-02, -9.56680346e-03,\n",
       "        6.61199763e-02,  1.53203979e-02,  4.65151444e-02,  4.62570861e-02,\n",
       "        9.19355899e-02,  1.25669269e-02,  1.49917314e-02, -4.82961237e-02,\n",
       "        4.68385443e-02,  2.67912447e-02, -5.92599995e-02,  5.60497940e-02,\n",
       "        5.19123822e-02,  3.98682021e-02, -3.01979408e-02, -4.66829166e-02,\n",
       "        5.16068824e-02,  6.32264167e-02, -2.38765683e-02,  1.24762869e-02,\n",
       "        1.73240732e-02, -5.84830269e-02,  2.58690845e-02, -3.13267112e-02,\n",
       "       -1.68165956e-02, -3.88313574e-03, -7.05700368e-03, -3.91870886e-02,\n",
       "       -3.25370878e-02, -5.20878471e-02,  4.26928848e-02,  1.57409348e-02,\n",
       "        1.00945592e-01, -3.97479571e-02, -4.34596092e-02, -4.44817431e-02,\n",
       "       -5.23353517e-02, -1.45887146e-02,  6.66436404e-02,  1.31400609e-02,\n",
       "        6.35284781e-02,  2.88409274e-02, -2.93111131e-02,  1.24406461e-02,\n",
       "       -1.71279740e-02, -1.50534660e-02, -4.76956256e-02,  1.61643550e-02,\n",
       "       -5.30950055e-02, -7.61953071e-02, -1.93478819e-02,  1.38992788e-02,\n",
       "       -1.18720643e-02, -7.44533911e-02, -3.23725864e-02, -4.48526591e-02,\n",
       "        4.06767987e-02,  2.65694372e-02, -7.76002603e-03,  7.77124092e-02,\n",
       "       -7.48629682e-03,  4.36133891e-03,  5.19710667e-02, -1.25793535e-02,\n",
       "       -6.31277710e-02, -2.14459635e-02,  5.16250208e-02, -2.71676611e-02,\n",
       "       -4.08590995e-02,  3.11800204e-02, -5.96769676e-02,  5.17167104e-03,\n",
       "       -1.81958918e-02, -1.28531754e-02, -7.96025805e-03,  7.54105598e-02,\n",
       "       -4.95488755e-02, -4.71269563e-02,  2.90973056e-02,  9.18515325e-02,\n",
       "       -6.29198598e-03, -2.71884333e-02, -1.13928998e-02, -1.58719979e-02,\n",
       "        5.11615612e-02,  5.76192606e-03,  5.34806363e-02, -1.92756962e-03,\n",
       "       -8.41930509e-03, -5.17783314e-02,  5.53436577e-02, -5.42357797e-03,\n",
       "        6.66094050e-02, -3.47046480e-02, -3.88330109e-02,  2.99398019e-03,\n",
       "        8.52268189e-03,  5.38263395e-02,  3.64573412e-02, -4.17014696e-02,\n",
       "       -8.95285700e-03, -9.68631450e-03, -6.89012744e-03,  2.85206567e-02,\n",
       "       -2.60608061e-03,  2.19564699e-02, -3.15932818e-02, -4.02252674e-02,\n",
       "        6.31211046e-03,  1.35397632e-03,  6.32880926e-02, -4.48541604e-02,\n",
       "        4.03764248e-02,  8.63890424e-02, -5.85803762e-03,  7.73479417e-02,\n",
       "       -6.11820444e-03,  3.78069989e-02, -4.66903970e-02,  1.61265880e-02,\n",
       "        2.30153669e-02, -6.53549680e-04, -1.45779196e-02, -7.08429003e-03,\n",
       "        2.51943618e-02,  3.39815393e-02,  5.06586283e-02,  6.60915114e-03,\n",
       "        2.36928873e-02,  2.60808654e-02,  1.21132229e-02, -6.74792826e-02,\n",
       "       -1.71923619e-02, -5.89365028e-02, -1.17589710e-02,  4.10457700e-02,\n",
       "        5.67532815e-02, -3.22591178e-02, -6.54516891e-02, -5.11642685e-03,\n",
       "        4.27239463e-02, -8.35914910e-03,  1.90785003e-03,  2.10123509e-02,\n",
       "        5.61315790e-02,  2.62573101e-02,  2.72029210e-02, -4.16408665e-02,\n",
       "        3.18193925e-03,  4.11728024e-02, -1.10011231e-02,  1.11134332e-02,\n",
       "        2.03357935e-02, -5.40273115e-02, -3.19921784e-03, -6.48519164e-03,\n",
       "        9.65727568e-02, -8.48042369e-02,  2.11678520e-02,  4.30141315e-02,\n",
       "        4.05589491e-02,  8.77027065e-02,  3.41238715e-02, -3.01637892e-02,\n",
       "       -6.15599751e-03,  2.52450593e-02,  5.25564738e-02,  6.45648316e-02,\n",
       "       -1.78514924e-02, -3.32695246e-02, -2.47473214e-02, -3.39576453e-02,\n",
       "       -3.27066630e-02, -3.23868282e-02,  3.96141745e-02,  3.42432894e-02,\n",
       "        3.76913585e-02, -3.11398804e-02, -5.95536679e-02,  1.70840751e-02,\n",
       "        2.95963194e-02,  2.45566596e-03,  6.78379983e-02,  1.35179693e-02,\n",
       "       -1.20786317e-02,  2.04646457e-02, -3.37740108e-02, -4.86838110e-02,\n",
       "        2.90858112e-02,  4.67664786e-02,  4.92977686e-02,  8.62395391e-03,\n",
       "        3.23638730e-02,  6.09108917e-02, -5.25360145e-02,  4.15489227e-02,\n",
       "       -5.46443313e-02, -7.23335072e-02, -6.09625466e-02, -5.36050424e-02,\n",
       "       -5.91237880e-02,  6.21754164e-03, -3.11636068e-02,  4.29768004e-02,\n",
       "        6.72735497e-02,  6.31247386e-02, -5.49174845e-02, -4.69745845e-02,\n",
       "       -3.35076079e-02, -4.24017906e-02, -2.15892866e-03,  4.12142416e-03,\n",
       "        2.69862935e-02, -1.93705852e-03,  1.98282953e-02,  8.81865248e-03,\n",
       "        4.83277030e-02,  2.34055892e-03,  1.12022962e-02,  6.39605671e-02,\n",
       "        2.00507464e-03,  1.41968476e-02,  2.56975982e-02, -5.15933521e-02,\n",
       "       -4.49111797e-02,  7.38504902e-02,  1.02494024e-02, -1.02695310e-02],\n",
       "      dtype=float32)"
      ]
     },
     "execution_count": 4,
     "metadata": {},
     "output_type": "execute_result"
    }
   ],
   "source": [
    "doc_embeddings"
   ]
  }
 ],
 "metadata": {
  "kernelspec": {
   "display_name": "cs5740",
   "language": "python",
   "name": "python3"
  },
  "language_info": {
   "codemirror_mode": {
    "name": "ipython",
    "version": 3
   },
   "file_extension": ".py",
   "mimetype": "text/x-python",
   "name": "python",
   "nbconvert_exporter": "python",
   "pygments_lexer": "ipython3",
   "version": "3.12.9"
  }
 },
 "nbformat": 4,
 "nbformat_minor": 5
}
