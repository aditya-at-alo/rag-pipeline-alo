{
 "cells": [
  {
   "cell_type": "code",
   "execution_count": 1,
   "id": "f2fc58e2",
   "metadata": {},
   "outputs": [],
   "source": [
    "from sentence_transformers import SentenceTransformer\n",
    "from sentence_transformers.util import cos_sim\n",
    "import numpy as np\n",
    "import faiss\n",
    "from pathlib import Path\n",
    "import os\n",
    "import re\n",
    "import pickle\n",
    "from tqdm import tqdm"
   ]
  },
  {
   "cell_type": "code",
   "execution_count": 14,
   "id": "b8f627de",
   "metadata": {},
   "outputs": [
    {
     "name": "stdout",
     "output_type": "stream",
     "text": [
      "Loaded 4 chunks\n"
     ]
    }
   ],
   "source": [
    "#Loading in markdown and chunks for testing\n",
    "\n",
    "#This is for sanity testing, ignore this file v\n",
    "markdown_path = Path(\"./postgre_chunks/accumulate.md\")\n",
    "markdown_text = markdown_path.read_text(encoding=\"utf-8\")\n",
    "\n",
    "#This is what we are using\n",
    "chunks_path = Path(\"./postgre_chunks\")\n",
    "chunk_texts = []\n",
    "\n",
    "id_count = 0\n",
    "\n",
    "for file_path in chunks_path.glob(\"*.txt\"):\n",
    "    text = file_path.read_text(encoding=\"utf-8\")\n",
    "    chunk_texts.append({\n",
    "        \"id\": id_count,\n",
    "        \"type\" : \"code\",\n",
    "        \"content\": text.strip()\n",
    "    })\n",
    "    id_count += 1\n",
    "\n",
    "print(f\"Loaded {len(chunk_texts)} chunks\")\n"
   ]
  },
  {
   "cell_type": "code",
   "execution_count": null,
   "id": "fd0fa678",
   "metadata": {},
   "outputs": [],
   "source": []
  },
  {
   "cell_type": "code",
   "execution_count": 17,
   "id": "76b41df8",
   "metadata": {},
   "outputs": [
    {
     "name": "stderr",
     "output_type": "stream",
     "text": [
      "C:\\Users\\adika\\.cache\\huggingface\\modules\\transformers_modules\\nomic-ai\\nomic-bert-2048\\7710840340a098cfb869c4f65e87cf2b1b70caca\\modeling_hf_nomic_bert.py:119: FutureWarning: You are using `torch.load` with `weights_only=False` (the current default value), which uses the default pickle module implicitly. It is possible to construct malicious pickle data which will execute arbitrary code during unpickling (See https://github.com/pytorch/pytorch/blob/main/SECURITY.md#untrusted-models for more details). In a future release, the default value for `weights_only` will be flipped to `True`. This limits the functions that could be executed during unpickling. Arbitrary objects will no longer be allowed to be loaded via this mode unless they are explicitly allowlisted by the user via `torch.serialization.add_safe_globals`. We recommend you start setting `weights_only=True` for any use case where you don't have full control of the loaded file. Please open an issue on GitHub for any issues related to this experimental feature.\n",
      "  state_dict = loader(resolved_archive_file)\n",
      "<All keys matched successfully>\n"
     ]
    }
   ],
   "source": [
    "emb_models = [\"nomic-ai/nomic-embed-text-v1\", \"jinaai/jina-embeddings-v2-small-en\"]\n",
    "model = SentenceTransformer(\n",
    "    emb_models[0],\n",
    "    trust_remote_code=True\n",
    ")\n",
    "\n",
    "def embed_texts(texts: list[str]) -> np.ndarray:\n",
    "    vectors = model.encode(texts, normalize_embeddings=True, convert_to_numpy=True)\n",
    "    return vectors\n",
    "\n",
    "# Do the embedding\n",
    "all_texts = [chunk[\"content\"] for chunk in chunk_texts]\n",
    "all_embeddings = embed_texts(all_texts)"
   ]
  },
  {
   "cell_type": "code",
   "execution_count": 19,
   "id": "3862c22b",
   "metadata": {},
   "outputs": [
    {
     "data": {
      "text/plain": [
       "(4, 768)"
      ]
     },
     "execution_count": 19,
     "metadata": {},
     "output_type": "execute_result"
    }
   ],
   "source": [
    "all_embeddings.shape"
   ]
  },
  {
   "cell_type": "code",
   "execution_count": 22,
   "id": "bbc3caef",
   "metadata": {},
   "outputs": [],
   "source": [
    "import numpy as np\n",
    "import json"
   ]
  },
  {
   "cell_type": "code",
   "execution_count": 23,
   "id": "1fc979c4",
   "metadata": {},
   "outputs": [
    {
     "name": "stdout",
     "output_type": "stream",
     "text": [
      "embeddings stored in faiss, metadata saved.\n"
     ]
    }
   ],
   "source": [
    "vectors_np=np.array(all_embeddings).astype(\"float32\")\n",
    "dimension = vectors_np.shape[1]\n",
    "index = faiss.IndexFlatIP(dimension)\n",
    "index.add(vectors_np)\n",
    "\n",
    "metadata_map = {i: chunk_texts[i] for i in range(len(chunk_texts))}\n",
    "\n",
    "faiss.write_index(index, \"rag_index.faiss\")\n",
    "with open(\"metadata_map.json\",\"w\") as f:\n",
    "    json.dump(metadata_map, f)\n",
    "\n",
    "print(\"embeddings stored in faiss, metadata saved.\")    "
   ]
  },
  {
   "cell_type": "code",
   "execution_count": 29,
   "id": "5b02dee4",
   "metadata": {},
   "outputs": [
    {
     "name": "stdout",
     "output_type": "stream",
     "text": [
      "\n",
      "[code] → Function getCardName Returns Char ():\n",
      "\n",
      "   If Available credit-card Then\n",
      "      Return '<INPUT TYPE=\"TEXT\" CLASS=\"txtField\" NAME=\"name\" SIZE=\"20\" MAXLENGTH=\"30\" VALUE=\"' + credit-card.card-holder + '\" tabindex=\"5\">'. /* 030000 */\n",
      "   Else\n",
      "      Return '<INPUT TYPE=\"TEXT\" CLASS=\"txtField\" NAME=\"name\" SIZE=\"20\" MAXLENGTH=\"30\" VALUE=\"' + v-addr-name + '\" tabindex=\"5\">'. /* 030000 */\n",
      "\n",
      "End Function. /* getCardName() */\n",
      "\n",
      "[code] → Function getBankName Returns Char ():\n",
      "\n",
      "   Return '<INPUT TYPE=\"TEXT\" CLASS=\"txtField\" NAME=\"bankname\" SIZE=\"20\" MAXLENGTH=\"35\" VALUE=\"' + v-bank-name + '\" ' + v-disabled + ' tabindex=\"5\">'. /* 010001 */\n",
      "\n",
      "End Function. /* getCardExpiryYear() */\n"
     ]
    }
   ],
   "source": [
    "# Load index\n",
    "index = faiss.read_index(\"rag_index.faiss\")\n",
    " \n",
    "# Load metadata\n",
    "with open(\"metadata_map.json\", \"r\") as f:\n",
    "    metadata_map = json.load(f)\n",
    " \n",
    "# Embed a query\n",
    "query = \"How is card name generated?\"\n",
    "query_vec = model.encode([query], normalize_embeddings=True).astype(\"float32\")\n",
    " \n",
    "# Search top-5\n",
    "D, I = index.search(query_vec, k=2)\n",
    " \n",
    "# Lookup original chunks\n",
    "for idx in I[0]:\n",
    "    chunk = metadata_map[str(idx)]\n",
    "    print(f\"\\n[{chunk['type']}] → {chunk['content']}\")"
   ]
  },
  {
   "cell_type": "code",
   "execution_count": null,
   "id": "0beb8596",
   "metadata": {},
   "outputs": [],
   "source": []
  }
 ],
 "metadata": {
  "kernelspec": {
   "display_name": "cs5740",
   "language": "python",
   "name": "python3"
  },
  "language_info": {
   "codemirror_mode": {
    "name": "ipython",
    "version": 3
   },
   "file_extension": ".py",
   "mimetype": "text/x-python",
   "name": "python",
   "nbconvert_exporter": "python",
   "pygments_lexer": "ipython3",
   "version": "3.12.9"
  }
 },
 "nbformat": 4,
 "nbformat_minor": 5
}
